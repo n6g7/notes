{
 "cells": [
  {
   "cell_type": "markdown",
   "metadata": {},
   "source": [
    "# Secretary problem"
   ]
  },
  {
   "cell_type": "markdown",
   "metadata": {},
   "source": [
    "## The problem\n",
    "\n",
    "> An administrator who wants to hire the best secretary out of $n$ rankable applicants for a position.\n",
    ">\n",
    "> The applicants are interviewed one by one in random order. A decision about each particular applicant is to be made immediately after the interview. Once rejected, an applicant cannot be recalled.\n",
    ">\n",
    "> During the interview, the administrator can rank the applicant among all applicants interviewed so far, but is unaware of the quality of yet unseen applicants.\n",
    ">\n",
    "> The question is about the optimal strategy (stopping rule) to maximize the probability of selecting the best applicant. If the decision can be deferred to the end, this can be solved by the simple maximum selection algorithm of tracking the running maximum (and who achieved it), and selecting the overall maximum at the end. The difficulty is that the decision must be made immediately."
   ]
  },
  {
   "cell_type": "markdown",
   "metadata": {},
   "source": [
    "## One elegant solution\n",
    "\n",
    "The following solution is optimal:\n",
    "\n",
    "Always reject the first $\\frac{n}{e}$ applicants after the interview and then stop at the first applicant who is better than every applicant interviewed so far (or continue to the last applicant if this never occurs).\n",
    "\n",
    "With this strategy the probability of stopping at the best applicant is $\\frac{1}{e} \\simeq 37\\%$ (independant of $n$!)."
   ]
  },
  {
   "cell_type": "markdown",
   "metadata": {},
   "source": [
    "### Implementation"
   ]
  },
  {
   "cell_type": "code",
   "execution_count": 1,
   "metadata": {
    "collapsed": true
   },
   "outputs": [],
   "source": [
    "import math\n",
    "import numpy"
   ]
  },
  {
   "cell_type": "code",
   "execution_count": 2,
   "metadata": {
    "collapsed": true
   },
   "outputs": [],
   "source": [
    "def secretary(sample):\n",
    "    n = len(sample)\n",
    "    r = int(round(n/math.e))\n",
    "\n",
    "    best = max(sample[:r])\n",
    "\n",
    "    for y in sample[r:]:\n",
    "        if y > best:\n",
    "            return y\n",
    "        best = max(best, y)\n",
    "\n",
    "    return sample[-1]"
   ]
  },
  {
   "cell_type": "code",
   "execution_count": 3,
   "metadata": {
    "collapsed": false
   },
   "outputs": [],
   "source": [
    "def check_secretary(sample):\n",
    "    return sample.max() == secretary(sample)"
   ]
  },
  {
   "cell_type": "code",
   "execution_count": 4,
   "metadata": {
    "collapsed": false
   },
   "outputs": [],
   "source": [
    "def run_test(sample_size):\n",
    "    sample = numpy.random.normal(size=sample_size)\n",
    "    return check_secretary(sample)"
   ]
  },
  {
   "cell_type": "code",
   "execution_count": 5,
   "metadata": {
    "collapsed": false
   },
   "outputs": [],
   "source": [
    "def run_tests(n, sample_size):\n",
    "    success = 0.\n",
    "    for i in range(n):\n",
    "        if run_test(sample_size):\n",
    "            success += 1\n",
    "    return success/n"
   ]
  },
  {
   "cell_type": "code",
   "execution_count": 6,
   "metadata": {
    "collapsed": false
   },
   "outputs": [
    {
     "data": {
      "text/plain": [
       "0.3727"
      ]
     },
     "execution_count": 6,
     "metadata": {},
     "output_type": "execute_result"
    }
   ],
   "source": [
    "run_tests(10000, 1000)"
   ]
  },
  {
   "cell_type": "markdown",
   "metadata": {},
   "source": [
    "## Resources\n",
    "\n",
    "- Wikipedia: https://en.wikipedia.org/wiki/Secretary_problem"
   ]
  }
 ],
 "metadata": {
  "kernelspec": {
   "display_name": "Python 3",
   "language": "python",
   "name": "python3"
  },
  "language_info": {
   "codemirror_mode": {
    "name": "ipython",
    "version": 3
   },
   "file_extension": ".py",
   "mimetype": "text/x-python",
   "name": "python",
   "nbconvert_exporter": "python",
   "pygments_lexer": "ipython3",
   "version": "3.4.4"
  }
 },
 "nbformat": 4,
 "nbformat_minor": 0
}
