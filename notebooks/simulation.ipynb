{
 "cells": [
  {
   "cell_type": "markdown",
   "metadata": {},
   "source": [
    "# The simulation argument"
   ]
  },
  {
   "cell_type": "markdown",
   "metadata": {},
   "source": [
    "This note summarises Nick Bostrom's [Are you living in a computer simulation?](http://www.simulation-argument.com/simulation.pdf) paper (published in 2003)."
   ]
  },
  {
   "cell_type": "markdown",
   "metadata": {},
   "source": [
    "## Introduction\n",
    "\n",
    "Assumptions:\n",
    "- \"enormous amounts of computing power will be available in the future\"\n",
    "- later generations might run a great many simulation of their forebears\n",
    "- simulated people are conscious (could be if simulations are powerful enough)\n",
    "\n",
    "Therefore:\n",
    "- \"it could be that the vast majority of minds like ours do not belongs to the original race but rather to people simulated\"\n",
    "- hence it's likely we're among the simulated minds\n",
    "- if we don't think that we are living in a computer simulation, we can't belive that our descendants will run lots of such simulations"
   ]
  },
  {
   "cell_type": "markdown",
   "metadata": {},
   "source": [
    "## Assumptions of substrate-independence\n",
    "\n",
    "### Substrate-independence\n",
    "- mental states can supervene on any of a broad class of physical substrates\n",
    "- provided a system implements the right sort of computational structures and process, it can be associated with conscious experiences\n",
    "\n",
    "### Corollaries\n",
    "- it is not an essential property of consciousness that it is implemented in carbon-based biology (neural network in cranium)\n",
    "- silicon-based processors in a computer could in principle do the trick\n",
    "\n",
    "Arguments for this thesis only asumes a weak form of substrate-independence: that computers running a suitable program would be conscious."
   ]
  },
  {
   "cell_type": "markdown",
   "metadata": {},
   "source": [
    "## Technological limits of computation\n",
    "\n",
    "Using currently known design principles:\n",
    "- $10^{21}$  instructions per second in a system the size of a *sugar cube*\n",
    "- $10^{42}$ operations per second for a computer with the mass of a large planet\n",
    "\n",
    "Computing power required to emulate a human mind: $\\sim 10^{14}$ to $10^{17}$ operations per second.\n",
    "\n",
    "Relaistic simulation of all human history: $\\sim 10^{33}$ to $10^{36}$ operations.\n",
    "\n",
    "Environment requires additional computating power but can be simulated *ad hoc*, only whatever is required to ensure simulated humans don't notice irregularities.\n",
    "Microscopic structures, distant astronomical objects can be highly compressed, if not omitted.\n",
    "\n",
    "A posthuman simulator (director) can also keep track of *belief states* in all simulated brains, edit them and skip back in the \"simulated past\" to fix noticeable errors.\n",
    "\n",
    "So the main computational cost is simulating organic brains.\n",
    "\n",
    "Hence a planetary mass computer would be able to simulate the entire mental history of humankind using less than one millionth of its processing power for one second.\n",
    "A civilization with a large number of such computers would be able to run a huge number of ancestor-simulations."
   ]
  },
  {
   "cell_type": "markdown",
   "metadata": {},
   "source": [
    "## The core of the simulation argument\n",
    "\n",
    "> TL;DR: there is a substantial chance our civilization will ever get to a posthuman stage and run many ancestor-simulations $\\Rightarrow$ how come are we not living in such a simulation?\n",
    "\n",
    "**Definitions**:\n",
    "- $f_p$: fraction of all human-level technological civilizations that survive to reach a posthuman stage\n",
    "- $\\overline{N}$: average number of ancestor-simulations run by a posthuman civilization\n",
    "- $\\overline{H}$: average number of individuals that have lived in a civilization before it reaches a posthuman stage\n",
    "\n",
    "Hence the number of simulated individuals is $f_p \\overline{N} \\overline{H}$ and the fraction of all observers with human-like experiences that live in simulations is:\n",
    "\n",
    "$$ f_{sim} = \\frac{f_p \\overline{N} \\overline{H}}{(f_p \\overline{N} \\overline{H}) + \\overline{H}} = \\frac{f_p \\overline{N}}{(f_p \\overline{N}) + 1} $$\n",
    "\n",
    "**Some more definitions**:\n",
    "- $f_I$: fraction of posthuman civilizations interested in running ancestor-simulations\n",
    "- $\\overline{N_I}$: average number of ancestor-simulations run by such interested simulations\n",
    "\n",
    "We have $\\overline{N} = f_I \\overline{N_I}$ and thus:\n",
    "\n",
    "$$ f_{sim} = \\frac{f_p f_I \\overline{N_I}}{(f_p f_I \\overline{N_I}) + 1} $$\n",
    "\n",
    "Because of the immense computing power of posthuman civilizations, $\\overline{N_I}$ is very large hence at least one of the following si true:\n",
    "1. $f_p \\approx 0$\n",
    "2. $f_I \\approx 0$\n",
    "3. $f_{sim} \\approx 1$"
   ]
  },
  {
   "cell_type": "markdown",
   "metadata": {},
   "source": [
    "## Bland Indifference Principle\n",
    "\n",
    "> TL;DR: (3) is true $\\Rightarrow$ we must believe that we live in a simulation.\n",
    "\n",
    "If we know that a fraction $x$ of all observers with human-type experiences live in simulations and we don't have any more information, then our credence that we are in a simulation should equal $x$:\n",
    "\n",
    "$$ Cr(SIM | f_{sim} = x) = x $$\n",
    "\n",
    "> From somewhere else, BPI+:\n",
    "> $$\\forall \\phi, Cr(\\phi | f_{\\phi} = x) = x$$"
   ]
  },
  {
   "cell_type": "markdown",
   "metadata": {},
   "source": [
    "## Interpretation\n",
    "\n",
    "### First alternative: $f_p \\approx 0$\n",
    "\n",
    "If (1) is true, then humanity will almost certainly fail to reach a posthuman stage. Therefore we must give a high credence to the hypothesis that humankind will go extinct before reaching a posthuman level (DOOM):\n",
    "\n",
    "$$ Cr(DOOM | f_p \\approx 0) \\approx 1 $$\n",
    "\n",
    "It might also mean that technological civilization will collapse but primitive societies will remain on earth indefinitely.\n",
    "\n",
    "### Second alternative: $f_I \\approx 0$\n",
    "\n",
    "Since we know that the number of ancestor-simulations run by interested civilizations is extremely large ($\\overline{N_I} \\gg 1$), then such civilizations must correspondingly be extermely rare for (2) to be true ($f_I \\ll 1$).\n",
    "Also, virtually all posthuman civilizations lack individuals with sufficient resources to run these simulations.\n",
    "\n",
    "Hence there is a strong convergence of posthuman civilizations.\n",
    "Possible causes: all posthuman civilizations develop in a way where they lose desire to run simulations.\n",
    "\n",
    "Posthuman civilizations will be very different from human societies.\n",
    "\n",
    "### Third alternative: $f_{sim} \\approx 1$\n",
    "\n",
    "- the cosmos we are seeing is just a tiny piece of the totality of physical existence\n",
    "- the physics in the universe where the computer is located may not resemble the physics of the world we observe\n",
    "- simulated civilizations may become posthuman\n",
    "  - if we do create our own ancestor-simulation, it would be a strong evidence that we live in a simulation\n",
    "  - reality may contain many levels\n",
    "- it si possible to draw analogies with religious concepts\n",
    "  - posthumans running asimulation are like gods to the people inhabiting the simulation\n",
    "  - they created our world, are omnipotent, omniscient\n",
    "  - they themselves have gods (posthumans from lower levels of reality)\n",
    "- possibility of more selective simulations including only a small group of humans (or single individual)\n",
    "  - rest of humanity would be \"shadow people\" (simulated only at a level sufficient for fully simulated people to not notice anythign suspicious)\n",
    "  - even there are such selective simultions, it's unlikely we're in one of them unless there are $\\sim 10^{11}$ times more of them than there are ancestor-simulations.\n",
    "\n",
    "> We may hope that (3) is true since that would decrease the probability of (1), although if computational constraints make it likely that simulators would terminate a simulation before it reaches a posthuman level, then out best hope would be that (2) is true."
   ]
  },
  {
   "cell_type": "markdown",
   "metadata": {},
   "source": [
    "## Conclusion\n",
    "\n",
    "In the dark forest of our current ignorance, it seems sensible to apportion one’s credence roughly evenly between (1), (2), and (3).\n",
    "\n",
    "Unless we are now living in a simulation, our descendants will almost certainly never run an ancestor‐simulation."
   ]
  },
  {
   "cell_type": "markdown",
   "metadata": {},
   "source": [
    "## Resources\n",
    "\n",
    "- The simulation argument website: http://www.simulation-argument.com/\n",
    "- The original paper: http://www.simulation-argument.com/simulation.pdf\n",
    "- The Simulation Argument: Reply to Weatherson: http://www.simulation-argument.com/weathersonreply.pdf"
   ]
  }
 ],
 "metadata": {
  "kernelspec": {
   "display_name": "Python 3",
   "language": "python",
   "name": "python3"
  },
  "language_info": {
   "codemirror_mode": {
    "name": "ipython",
    "version": 3
   },
   "file_extension": ".py",
   "mimetype": "text/x-python",
   "name": "python",
   "nbconvert_exporter": "python",
   "pygments_lexer": "ipython3",
   "version": "3.4.4"
  }
 },
 "nbformat": 4,
 "nbformat_minor": 1
}
