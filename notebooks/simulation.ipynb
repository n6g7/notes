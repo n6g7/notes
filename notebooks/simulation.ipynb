{
 "cells": [
  {
   "cell_type": "markdown",
   "metadata": {},
   "source": [
    "# The simulation argument"
   ]
  },
  {
   "cell_type": "markdown",
   "metadata": {},
   "source": [
    "## Definitions"
   ]
  },
  {
   "cell_type": "markdown",
   "metadata": {},
   "source": [
    "- $f_p$: Fraction of civilizations at our current stage that eventually become technologically mature.\n",
    "- $f_I$: Fraction of technologically mature civilisations that apply a non-negligible portion of there computation power to running ancesotrs simulations.\n",
    "- $f_{sim}$: Fraction of all people with human-like experiences who live __in simulations__."
   ]
  },
  {
   "cell_type": "markdown",
   "metadata": {},
   "source": [
    "## Hypothesis"
   ]
  },
  {
   "cell_type": "markdown",
   "metadata": {},
   "source": [
    "At least one is true:\n",
    "\n",
    "1. $f_p \\simeq 0$\n",
    "2. $f_I \\simeq 0$\n",
    "3. $f_{sim} \\simeq 1$"
   ]
  },
  {
   "cell_type": "markdown",
   "metadata": {},
   "source": [
    "## Bland Indifference Principle"
   ]
  },
  {
   "cell_type": "markdown",
   "metadata": {},
   "source": [
    "### Definitions"
   ]
  },
  {
   "cell_type": "markdown",
   "metadata": {},
   "source": [
    "- $SIM$: Thesis that we live in a simulation\n",
    "- $Cr()$: credence"
   ]
  },
  {
   "cell_type": "markdown",
   "metadata": {},
   "source": [
    "### Hypothesis"
   ]
  },
  {
   "cell_type": "markdown",
   "metadata": {},
   "source": [
    "BPI:\n",
    "$$Cr(SIM | f_{sim} = x) = x$$\n",
    "\n",
    "BPI+:\n",
    "$$\\forall \\phi, Cr(\\phi | f_{\\phi} = x) = x$$"
   ]
  },
  {
   "cell_type": "markdown",
   "metadata": {},
   "source": [
    "## More information"
   ]
  },
  {
   "cell_type": "markdown",
   "metadata": {},
   "source": [
    "- The simulation argument website: http://www.simulation-argument.com/\n",
    "- The original paper: http://www.simulation-argument.com/simulation.pdf\n",
    "- The Simulation Argument: Reply to Weatherson: http://www.simulation-argument.com/weathersonreply.pdf"
   ]
  }
 ],
 "metadata": {
  "kernelspec": {
   "display_name": "Python 3",
   "language": "python",
   "name": "python3"
  },
  "language_info": {
   "codemirror_mode": {
    "name": "ipython",
    "version": 3
   },
   "file_extension": ".py",
   "mimetype": "text/x-python",
   "name": "python",
   "nbconvert_exporter": "python",
   "pygments_lexer": "ipython3",
   "version": "3.4.4"
  }
 },
 "nbformat": 4,
 "nbformat_minor": 1
}
